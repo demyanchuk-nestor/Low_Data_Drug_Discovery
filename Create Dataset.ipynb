{
 "cells": [
  {
   "cell_type": "markdown",
   "metadata": {
    "id": "N-gSPKnRafnX"
   },
   "source": [
    "<a href=\"https://colab.research.google.com/github/demyanchuk-nestor/Low_Data_Drug_Discovery/blob/main/Create%20Dataset.ipynb\" target=\"_parent\"><img src=\"https://colab.research.google.com/assets/colab-badge.svg\" alt=\"Open In Colab\"/></a>"
   ]
  },
  {
   "cell_type": "code",
   "execution_count": null,
   "metadata": {
    "id": "e_QQA9tkYwl3"
   },
   "outputs": [],
   "source": [
    "!git clone https://github.com/demyanchuk-nestor/Low_Data_Drug_Discovery\n",
    "%cd 'Low_Data_Drug_Discovery'"
   ]
  },
  {
   "cell_type": "code",
   "execution_count": null,
   "metadata": {
    "colab": {
     "base_uri": "https://localhost:8080/"
    },
    "executionInfo": {
     "elapsed": 45011,
     "status": "ok",
     "timestamp": 1711700398702,
     "user": {
      "displayName": "Nestor Demyanchuk",
      "userId": "18084923602098834769"
     },
     "user_tz": -120
    },
    "id": "73bDtO2HlU1z",
    "outputId": "7821e9c1-8953-430d-954a-e0a78e19a112"
   },
   "outputs": [],
   "source": [
    "# Install nesessary libraries / components \n",
    "from IPython.display import clear_output\n",
    "\n",
    "# https://www.dgl.ai/pages/start.html\n",
    "\n",
    "# !pip install dgl\n",
    "# !pip install dgl-cu111 -f https://data.dgl.ai/wheels/repo.html # FOR CUDA VERSION\n",
    "!pip install  dgl -f https://data.dgl.ai/wheels/cu121/repo.html\n",
    "!pip install  dglgo -f https://data.dgl.ai/wheels-test/repo.html\n",
    "!pip install chembl_structure_pipeline\n",
    "!pip install dgllife\n",
    "!pip install rdkit-pypi\n",
    "!pip install --pre deepchem\n",
    "!pip install ipython-autotime\n",
    "!pip install gputil\n",
    "!pip install psutil\n",
    "!pip install humanize\n",
    "\n",
    "!conda install -c chembl chembl_structure_pipeline\n",
    "\n",
    "%load_ext autotime\n",
    "\n",
    "clear = clear_output()"
   ]
  },
  {
   "cell_type": "code",
   "execution_count": null,
   "metadata": {
    "colab": {
     "base_uri": "https://localhost:8080/"
    },
    "executionInfo": {
     "elapsed": 498,
     "status": "ok",
     "timestamp": 1711700493611,
     "user": {
      "displayName": "Nestor Demyanchuk",
      "userId": "18084923602098834769"
     },
     "user_tz": -120
    },
    "id": "ro-qPhPUlWcI",
    "outputId": "49547c96-bb66-4737-9d08-86572914a5d1"
   },
   "outputs": [],
   "source": [
    "# Import libraries\n",
    "import os\n",
    "from os import path\n",
    "import pandas as pd\n",
    "import numpy as np\n",
    "import statistics\n",
    "import warnings\n",
    "import random\n",
    "import time\n",
    "import itertools\n",
    "\n",
    "import matplotlib.pyplot as plt\n",
    "from torch.optim.lr_scheduler import ReduceLROnPlateau\n",
    "import tqdm\n",
    "from tqdm import trange\n",
    "import sklearn\n",
    "from sklearn.metrics import roc_auc_score, average_precision_score, accuracy_score\n",
    "\n",
    "import dgl\n",
    "from dgl.dataloading import GraphDataLoader\n",
    "from dgl.nn import GraphConv, SumPooling, MaxPooling\n",
    "import dgl.function as fn\n",
    "import dgllife\n",
    "from dgllife import utils\n",
    "\n",
    "import deepchem as dc\n",
    "import rdkit\n",
    "from rdkit import Chem\n",
    "from rdkit.Chem.MolStandardize import rdMolStandardize\n",
    "\n",
    "from torch.utils.tensorboard import SummaryWriter\n",
    "\n",
    "import chembl_structure_pipeline\n",
    "from chembl_structure_pipeline import standardizer\n",
    "\n",
    "# embedding\n",
    "import torch\n",
    "import torch.nn as nn\n",
    "import torch.nn.functional as F\n",
    "from torch.autograd import Variable\n",
    "\n",
    "from tqdm import tqdm_notebook\n",
    "from tqdm import tnrange\n",
    "\n",
    "# from torch.autograd import Variable\n",
    "\n",
    "# Profiler\n",
    "from torch.profiler import profile, record_function, ProfilerActivity\n",
    "\n",
    "import psutil\n",
    "import humanize\n",
    "import GPUtil as GPU\n",
    "import subprocess\n",
    "\n",
    "from datetime import datetime, timedelta\n",
    "\n",
    "from sklearn.metrics import roc_curve\n",
    "from sklearn.metrics import roc_auc_score\n",
    "from matplotlib import pyplot\n",
    "from sklearn.metrics import ConfusionMatrixDisplay\n",
    "from sklearn.metrics import precision_recall_curve\n",
    "from sklearn.metrics import f1_score\n",
    "from sklearn.metrics import auc\n",
    "from sklearn.metrics import PrecisionRecallDisplay\n",
    "\n",
    "warnings.filterwarnings(\"ignore\", message=\"DGLGraph.__len__\")\n",
    "\n",
    "DGLBACKEND = 'pytorch'\n",
    "\n",
    "clear\n",
    "\n",
    "def get_cmd_output(command):\n",
    "  return subprocess.check_output(command,\n",
    "                        stderr=subprocess.STDOUT,\n",
    "                        shell=True).decode('UTF-8')"
   ]
  },
  {
   "cell_type": "code",
   "execution_count": null,
   "metadata": {
    "colab": {
     "base_uri": "https://localhost:8080/"
    },
    "executionInfo": {
     "elapsed": 624,
     "status": "ok",
     "timestamp": 1711700497883,
     "user": {
      "displayName": "Nestor Demyanchuk",
      "userId": "18084923602098834769"
     },
     "user_tz": -120
    },
    "id": "Uj0Zso9slXmF",
    "outputId": "1a6d2919-8d1e-4f2c-8dfe-c43fc582a14b"
   },
   "outputs": [],
   "source": [
    "# Define functions\n",
    "def create_dataset(df, name, bonds):\n",
    "    print(f\"Creating Dataset and Saving to {drive_path}/data/{name}.pkl\")\n",
    "    data = df.sample(frac=1)\n",
    "    data = data.reset_index(drop=True)\n",
    "    data['mol'] = data['smiles'].apply(lambda x: create_dgl_features(x, bonds))\n",
    "    data.to_pickle(f\"{drive_path}/data/{name}.pkl\")\n",
    "    return data\n",
    "\n",
    "def create_ecfp_dataset(df, name, bonds):\n",
    "    print(f\"Creating Dataset and Saving to {drive_path}/data/{name}.pkl\")\n",
    "    data = df.sample(frac=1)\n",
    "    data = data.reset_index(drop=True)\n",
    "\n",
    "    featurizer = dc.feat.CircularFingerprint(size=2048, radius=2)\n",
    "\n",
    "    data['mol'] = data['smiles'].apply(lambda x: np.float32(featurizer(x)[0]))\n",
    "    data.to_pickle(f\"{drive_path}/data/{name}.pkl\")\n",
    "    return data\n",
    "\n",
    "def featurize_atoms(mol):\n",
    "  feats = []\n",
    "\n",
    "  atom_features = utils.ConcatFeaturizer([\n",
    "    utils.atom_type_one_hot,\n",
    "    utils.atomic_number_one_hot,\n",
    "    utils.atom_degree_one_hot,\n",
    "    utils.atom_explicit_valence_one_hot,\n",
    "    utils.atom_formal_charge_one_hot,\n",
    "    utils.atom_num_radical_electrons_one_hot,\n",
    "    utils.atom_hybridization_one_hot,\n",
    "    utils.atom_is_aromatic_one_hot\n",
    "  ])\n",
    "\n",
    "  for atom in mol.GetAtoms():\n",
    "    feats.append(atom_features(atom))\n",
    "  return {'feats': torch.tensor(feats).float()}\n",
    "\n",
    "def featurize_bonds(mol):\n",
    "  feats = []\n",
    "\n",
    "  bond_features = utils.ConcatFeaturizer([\n",
    "    utils.bond_type_one_hot,\n",
    "    utils.bond_is_conjugated_one_hot,\n",
    "    utils.bond_is_in_ring_one_hot,\n",
    "    utils.bond_stereo_one_hot,\n",
    "    utils.bond_direction_one_hot,\n",
    "  ])\n",
    "\n",
    "  for bond in mol.GetBonds():\n",
    "    feats.append(bond_features(bond))\n",
    "    feats.append(bond_features(bond))\n",
    "  return {'edge_feats': torch.tensor(feats).float()}\n",
    "\n",
    "def create_dgl_features(smiles, bonds):\n",
    "    mol = Chem.MolFromSmiles(smiles)\n",
    "    mol = standardizer.standardize_mol(mol)\n",
    "\n",
    "    if bonds:\n",
    "        dgl_graph = utils.mol_to_bigraph(mol=mol,\n",
    "                                    node_featurizer=featurize_atoms,\n",
    "                                    edge_featurizer=featurize_bonds,\n",
    "                                    canonical_atom_order=True)\n",
    "    else:\n",
    "      dgl_graph = utils.mol_to_bigraph(mol=mol,\n",
    "                                    node_featurizer=featurize_atoms,\n",
    "                                    canonical_atom_order=True)\n",
    "\n",
    "    dgl_graph = dgl.add_self_loop(dgl_graph)\n",
    "\n",
    "    return dgl_graph\n",
    "\n",
    "def load_dataset(dataset, bonds=False, feat='graph', create_new=False):\n",
    "  \"\"\"\n",
    "    dataset values: muv, tox21\n",
    "  \"\"\"\n",
    "  dataset_test_tasks = {\n",
    "    'tox21': ['SR-HSE', 'SR-MMP', 'SR-p53'],\n",
    "    'muv': ['MUV-832', 'MUV-846', 'MUV-852', 'MUV-858', 'MUV-859'],\n",
    "    'dude-gpcr': ['adrb2', 'cxcr4']\n",
    "  }\n",
    "\n",
    "  dataset_original = dataset\n",
    "\n",
    "  if bonds:\n",
    "    dataset = dataset + \"_with_bonds\"\n",
    "\n",
    "  if path.exists(f\"{drive_path}/data/{dataset}_dgl.pkl\") and not create_new:\n",
    "    # Load Dataset\n",
    "    print(\"Reading Pickle\")\n",
    "    if feat == 'graph':\n",
    "      data = pd.read_pickle(f\"{drive_path}/data/{dataset}_dgl.pkl\")\n",
    "    else:\n",
    "      data = pd.read_pickle(f\"{drive_path}/data/{dataset}_ecfp.pkl\")\n",
    "  else:\n",
    "    # Create Dataset\n",
    "    df = pd.read_csv(f\"{drive_path}/data/raw/{dataset_original}.csv\")\n",
    "    if feat == 'graph':\n",
    "      data = create_dataset(df, f\"{dataset}_dgl\", bonds)\n",
    "    else:\n",
    "      data = create_ecfp_dataset(df, f\"{dataset}_ecfp\")\n",
    "\n",
    "  test_tasks = dataset_test_tasks.get(dataset_original)\n",
    "  drop_cols = test_tasks.copy()\n",
    "  drop_cols.extend(['mol_id', 'smiles', 'mol'])\n",
    "  train_tasks = [x for x in list(data.columns) if x not in drop_cols]\n",
    "\n",
    "  return data, train_tasks, test_tasks"
   ]
  },
  {
   "cell_type": "code",
   "execution_count": null,
   "metadata": {
    "colab": {
     "base_uri": "https://localhost:8080/"
    },
    "executionInfo": {
     "elapsed": 135840,
     "status": "ok",
     "timestamp": 1711701294126,
     "user": {
      "displayName": "Nestor Demyanchuk",
      "userId": "18084923602098834769"
     },
     "user_tz": -120
    },
    "id": "IdIOvyXum3p7",
    "outputId": "de072852-1501-4d47-e24c-cc74eeacfd49"
   },
   "outputs": [],
   "source": [
    "# Create dataset\n",
    "drive_path = \"./data\"\n",
    "\n",
    "# PARAMETERS\n",
    "dataset = 'dude-gpcr'\n",
    "with_bonds = False\n",
    "\n",
    "df = pd.read_csv(f\"{drive_path}/raw/{dataset}.csv\")\n",
    "data = create_ecfp_dataset(df, f\"{dataset}_ecfp\", with_bonds)"
   ]
  }
 ],
 "metadata": {
  "accelerator": "GPU",
  "colab": {
   "gpuType": "T4",
   "provenance": []
  },
  "kernelspec": {
   "display_name": "Python 3",
   "language": "python",
   "name": "python3"
  },
  "language_info": {
   "codemirror_mode": {
    "name": "ipython",
    "version": 3
   },
   "file_extension": ".py",
   "mimetype": "text/x-python",
   "name": "python",
   "nbconvert_exporter": "python",
   "pygments_lexer": "ipython3",
   "version": "3.7.6"
  }
 },
 "nbformat": 4,
 "nbformat_minor": 1
}
